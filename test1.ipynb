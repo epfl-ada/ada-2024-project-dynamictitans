{
 "cells": [
  {
   "cell_type": "code",
   "execution_count": 2,
   "metadata": {},
   "outputs": [],
   "source": [
    "import pandas as pd\n",
    "import numpy as np"
   ]
  },
  {
   "cell_type": "code",
   "execution_count": 102,
   "metadata": {},
   "outputs": [],
   "source": [
    "movie = pd.read_csv(\"MovieSummaries/movie.metadata.tsv\", delimiter='\\t',header=None)\n",
    "character = pd.read_csv(\"MovieSummaries/character.metadata.tsv\", delimiter='\\t',header=None)\n",
    "movie.columns = ['Wikipedia movie ID','Freebase movie ID','Movie name','Movie release date','Movie box office revenue','Movie runtime','Movie languages','Movie countries','Movie genres']\n",
    "movie[\"Movie name\"] = movie[\"Movie name\"].str.capitalize()\n",
    "movie[\"Movie name\"] = movie[\"Movie name\"].str.replace(r'[éè]', 'e', regex=True)"
   ]
  },
  {
   "cell_type": "code",
   "execution_count": 4,
   "metadata": {},
   "outputs": [],
   "source": [
    "imdb1 = pd.read_csv('title.ratings.tsv', delimiter='\\t')\n",
    "imdb2 = pd.read_csv('title.basics.tsv', delimiter='\\t', low_memory=False)\n"
   ]
  },
  {
   "cell_type": "code",
   "execution_count": 5,
   "metadata": {},
   "outputs": [],
   "source": [
    "merged_df = pd.merge(imdb1, imdb2, on='tconst', how='inner')"
   ]
  },
  {
   "cell_type": "code",
   "execution_count": 89,
   "metadata": {},
   "outputs": [],
   "source": [
    "merged_2 = merged_df[(merged_df.titleType == 'movie')|(merged_df.titleType == 'tvMovie')]\n",
    "merged_3= merged_2[merged_2['numVotes'] >= 30]\n",
    "merged_3.loc[:, 'primaryTitle'] = merged_3['primaryTitle'].str.capitalize()\n",
    "\n",
    "\n"
   ]
  },
  {
   "cell_type": "code",
   "execution_count": 92,
   "metadata": {},
   "outputs": [],
   "source": [
    "merged_4 = merged_3.drop(columns=['numVotes' ,'titleType', 'isAdult', 'endYear', 'originalTitle', 'runtimeMinutes', 'genres', 'tconst'])"
   ]
  },
  {
   "cell_type": "code",
   "execution_count": 93,
   "metadata": {},
   "outputs": [],
   "source": [
    "merged_final = pd.merge(merged_4, movie, left_on='primaryTitle', right_on='Movie name', how='right')"
   ]
  },
  {
   "cell_type": "code",
   "execution_count": 117,
   "metadata": {},
   "outputs": [],
   "source": [
    "merged_final[\"Movie release year\"] = merged_final[\"Movie release date\"].str[:4]"
   ]
  },
  {
   "cell_type": "code",
   "execution_count": 119,
   "metadata": {},
   "outputs": [],
   "source": [
    "merged_final2 = merged_final[merged_final['Movie release year']==merged_final['startYear']]"
   ]
  },
  {
   "cell_type": "code",
   "execution_count": 121,
   "metadata": {},
   "outputs": [],
   "source": [
    "merged_final2 = merged_final2.drop(columns=['primaryTitle', 'Movie release year', 'startYear', 'Movie release date'])"
   ]
  }
 ],
 "metadata": {
  "kernelspec": {
   "display_name": "ada_homework_1",
   "language": "python",
   "name": "python3"
  },
  "language_info": {
   "codemirror_mode": {
    "name": "ipython",
    "version": 3
   },
   "file_extension": ".py",
   "mimetype": "text/x-python",
   "name": "python",
   "nbconvert_exporter": "python",
   "pygments_lexer": "ipython3",
   "version": "3.12.7"
  }
 },
 "nbformat": 4,
 "nbformat_minor": 2
}
