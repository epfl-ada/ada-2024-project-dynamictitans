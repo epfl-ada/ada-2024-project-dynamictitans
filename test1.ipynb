{
 "cells": [
  {
   "cell_type": "markdown",
   "metadata": {},
   "source": [
    "## other idea\n",
    "remove duplicates using running time \n",
    "    -> problem because same movies have 1 minute difference in running time in the two data sets\n",
    "try to use anoter dataset than basics that has things in common with our dataset for removal of duplicates\n",
    "\n",
    "### Ideal\n",
    "finding mapping between movie id\n",
    "\n",
    "data set:\n",
    "https://datasets.imdbws.com/"
   ]
  },
  {
   "cell_type": "code",
   "execution_count": 1,
   "metadata": {},
   "outputs": [],
   "source": [
    "import pandas as pd\n",
    "import numpy as np"
   ]
  },
  {
   "cell_type": "code",
   "execution_count": 2,
   "metadata": {},
   "outputs": [],
   "source": [
    "movie = pd.read_csv(\"MovieSummaries/movie.metadata.tsv\", delimiter='\\t',header=None)\n",
    "character = pd.read_csv(\"MovieSummaries/character.metadata.tsv\", delimiter='\\t',header=None)\n",
    "movie.columns = ['Wikipedia movie ID','Freebase movie ID','Movie name','Movie release date','Movie box office revenue','Movie runtime','Movie languages','Movie countries','Movie genres']\n",
    "movie[\"Movie name\"] = movie[\"Movie name\"].str.capitalize()\n",
    "movie[\"Movie name\"] = movie[\"Movie name\"].str.replace(r'[éè]', 'e', regex=True)"
   ]
  },
  {
   "cell_type": "code",
   "execution_count": 4,
   "metadata": {},
   "outputs": [],
   "source": [
    "# imdb1 has ratings, imdb identifier and number of votes\n",
    "imdb1 = pd.read_csv('title.ratings.tsv', delimiter='\\t')\n",
    "# imdb2 has genres, title, year, etc\n",
    "imdb2 = pd.read_csv('title.basics.tsv', delimiter='\\t', low_memory=False)\n"
   ]
  },
  {
   "cell_type": "code",
   "execution_count": 5,
   "metadata": {},
   "outputs": [],
   "source": [
    "merged_df = pd.merge(imdb1, imdb2, on='tconst', how='inner')"
   ]
  },
  {
   "cell_type": "code",
   "execution_count": 6,
   "metadata": {},
   "outputs": [],
   "source": [
    "# in the imdb data set they include series and a lot of other things.\n",
    "#  This removes a lot of movies that are not in the other data \n",
    "merged_2 = merged_df[(merged_df.titleType == 'movie')|(merged_df.titleType == 'tvMovie')]\n",
    "# removing all the movies that have less than 30 votes \n",
    "# questionable step because some of the movies in our data set have \n",
    "# very low amount of votes\n",
    "merged_3= merged_2[merged_2['numVotes'] >= 30]\n",
    "# making the titles of the movies in the same format for both data set \n",
    "# for example in one data set a movie can be called \"The matrix\" and in the other \"The Matrix\"\n",
    "merged_3.loc[:, 'primaryTitle'] = merged_3['primaryTitle'].str.capitalize()"
   ]
  },
  {
   "cell_type": "code",
   "execution_count": 7,
   "metadata": {},
   "outputs": [],
   "source": [
    "# removing all the columns that are not needed\n",
    "merged_4 = merged_3.drop(columns=['numVotes' ,'titleType', 'isAdult', 'endYear', 'originalTitle', 'runtimeMinutes', 'genres', 'tconst'])"
   ]
  },
  {
   "cell_type": "code",
   "execution_count": 8,
   "metadata": {},
   "outputs": [],
   "source": [
    "# merging the data sets on our movie data set\n",
    "merged_final = pd.merge(merged_4, movie, left_on='primaryTitle', right_on='Movie name', how='right')"
   ]
  },
  {
   "cell_type": "code",
   "execution_count": 9,
   "metadata": {},
   "outputs": [],
   "source": [
    "# creating a column that has the year of the movie release so that we can remove duplicates \n",
    "# that have the same name but different release year\n",
    "merged_final[\"Movie release year\"] = merged_final[\"Movie release date\"].str[:4]"
   ]
  },
  {
   "cell_type": "code",
   "execution_count": 10,
   "metadata": {},
   "outputs": [],
   "source": [
    "# trying to remove duplicates\n",
    "merged_final2 = merged_final[merged_final['Movie release year']==merged_final['startYear']]"
   ]
  },
  {
   "cell_type": "code",
   "execution_count": 11,
   "metadata": {},
   "outputs": [],
   "source": [
    "# drop colllumn that are not needed\n",
    "merged_final2 = merged_final2.drop(columns=['primaryTitle', 'Movie release year', 'startYear', 'Movie release date'])"
   ]
  },
  {
   "cell_type": "code",
   "execution_count": 26,
   "metadata": {},
   "outputs": [],
   "source": [
    "merged_final2 = merged_final2[merged_final2['Movie box office revenue'].notna()]"
   ]
  },
  {
   "cell_type": "markdown",
   "metadata": {},
   "source": [
    "# The best data right now"
   ]
  },
  {
   "cell_type": "code",
   "execution_count": 27,
   "metadata": {},
   "outputs": [
    {
     "data": {
      "text/html": [
       "<div>\n",
       "<style scoped>\n",
       "    .dataframe tbody tr th:only-of-type {\n",
       "        vertical-align: middle;\n",
       "    }\n",
       "\n",
       "    .dataframe tbody tr th {\n",
       "        vertical-align: top;\n",
       "    }\n",
       "\n",
       "    .dataframe thead th {\n",
       "        text-align: right;\n",
       "    }\n",
       "</style>\n",
       "<table border=\"1\" class=\"dataframe\">\n",
       "  <thead>\n",
       "    <tr style=\"text-align: right;\">\n",
       "      <th></th>\n",
       "      <th>averageRating</th>\n",
       "      <th>Wikipedia movie ID</th>\n",
       "      <th>Freebase movie ID</th>\n",
       "      <th>Movie name</th>\n",
       "      <th>Movie box office revenue</th>\n",
       "      <th>Movie runtime</th>\n",
       "      <th>Movie languages</th>\n",
       "      <th>Movie countries</th>\n",
       "      <th>Movie genres</th>\n",
       "    </tr>\n",
       "  </thead>\n",
       "  <tbody>\n",
       "    <tr>\n",
       "      <th>0</th>\n",
       "      <td>4.9</td>\n",
       "      <td>975900</td>\n",
       "      <td>/m/03vyhn</td>\n",
       "      <td>Ghosts of mars</td>\n",
       "      <td>14010832.0</td>\n",
       "      <td>98.0</td>\n",
       "      <td>{\"/m/02h40lc\": \"English Language\"}</td>\n",
       "      <td>{\"/m/09c7w0\": \"United States of America\"}</td>\n",
       "      <td>{\"/m/01jfsb\": \"Thriller\", \"/m/06n90\": \"Science...</td>\n",
       "    </tr>\n",
       "    <tr>\n",
       "      <th>9</th>\n",
       "      <td>6.8</td>\n",
       "      <td>10408933</td>\n",
       "      <td>/m/02qc0j7</td>\n",
       "      <td>Alexander's ragtime band</td>\n",
       "      <td>3600000.0</td>\n",
       "      <td>106.0</td>\n",
       "      <td>{\"/m/02h40lc\": \"English Language\"}</td>\n",
       "      <td>{\"/m/09c7w0\": \"United States of America\"}</td>\n",
       "      <td>{\"/m/04t36\": \"Musical\", \"/m/01z4y\": \"Comedy\", ...</td>\n",
       "    </tr>\n",
       "    <tr>\n",
       "      <th>17</th>\n",
       "      <td>7.5</td>\n",
       "      <td>171005</td>\n",
       "      <td>/m/016ywb</td>\n",
       "      <td>Henry v</td>\n",
       "      <td>10161099.0</td>\n",
       "      <td>137.0</td>\n",
       "      <td>{\"/m/02h40lc\": \"English Language\"}</td>\n",
       "      <td>{\"/m/07ssc\": \"United Kingdom\"}</td>\n",
       "      <td>{\"/m/04xvh5\": \"Costume drama\", \"/m/082gq\": \"Wa...</td>\n",
       "    </tr>\n",
       "    <tr>\n",
       "      <th>21</th>\n",
       "      <td>7.8</td>\n",
       "      <td>77856</td>\n",
       "      <td>/m/0kcn7</td>\n",
       "      <td>Mary poppins</td>\n",
       "      <td>102272727.0</td>\n",
       "      <td>139.0</td>\n",
       "      <td>{\"/m/02h40lc\": \"English Language\"}</td>\n",
       "      <td>{\"/m/09c7w0\": \"United States of America\"}</td>\n",
       "      <td>{\"/m/0hj3myq\": \"Children's/Family\", \"/m/04t36\"...</td>\n",
       "    </tr>\n",
       "    <tr>\n",
       "      <th>35</th>\n",
       "      <td>6.5</td>\n",
       "      <td>156558</td>\n",
       "      <td>/m/014k4y</td>\n",
       "      <td>Baby boy</td>\n",
       "      <td>29381649.0</td>\n",
       "      <td>123.0</td>\n",
       "      <td>{\"/m/02h40lc\": \"English Language\"}</td>\n",
       "      <td>{\"/m/09c7w0\": \"United States of America\"}</td>\n",
       "      <td>{\"/m/0lsxr\": \"Crime Fiction\", \"/m/07s9rl0\": \"D...</td>\n",
       "    </tr>\n",
       "    <tr>\n",
       "      <th>...</th>\n",
       "      <td>...</td>\n",
       "      <td>...</td>\n",
       "      <td>...</td>\n",
       "      <td>...</td>\n",
       "      <td>...</td>\n",
       "      <td>...</td>\n",
       "      <td>...</td>\n",
       "      <td>...</td>\n",
       "      <td>...</td>\n",
       "    </tr>\n",
       "    <tr>\n",
       "      <th>122335</th>\n",
       "      <td>6.9</td>\n",
       "      <td>1191380</td>\n",
       "      <td>/m/04f_y7</td>\n",
       "      <td>Wilde</td>\n",
       "      <td>2158775.0</td>\n",
       "      <td>118.0</td>\n",
       "      <td>{\"/m/02h40lc\": \"English Language\"}</td>\n",
       "      <td>{\"/m/014tss\": \"Kingdom of Great Britain\", \"/m/...</td>\n",
       "      <td>{\"/m/0hn10\": \"LGBT\", \"/m/017fp\": \"Biography\", ...</td>\n",
       "    </tr>\n",
       "    <tr>\n",
       "      <th>122336</th>\n",
       "      <td>7.1</td>\n",
       "      <td>54540</td>\n",
       "      <td>/m/0f7hw</td>\n",
       "      <td>Coming to america</td>\n",
       "      <td>288752301.0</td>\n",
       "      <td>117.0</td>\n",
       "      <td>{\"/m/02h40lc\": \"English Language\"}</td>\n",
       "      <td>{\"/m/09c7w0\": \"United States of America\"}</td>\n",
       "      <td>{\"/m/06cvj\": \"Romantic comedy\", \"/m/03p5xs\": \"...</td>\n",
       "    </tr>\n",
       "    <tr>\n",
       "      <th>122388</th>\n",
       "      <td>5.3</td>\n",
       "      <td>7761830</td>\n",
       "      <td>/m/0kvgqb</td>\n",
       "      <td>Spaced invaders</td>\n",
       "      <td>15369573.0</td>\n",
       "      <td>100.0</td>\n",
       "      <td>{\"/m/02h40lc\": \"English Language\"}</td>\n",
       "      <td>{\"/m/09c7w0\": \"United States of America\"}</td>\n",
       "      <td>{\"/m/0hj3mt0\": \"Alien Film\", \"/m/06n90\": \"Scie...</td>\n",
       "    </tr>\n",
       "    <tr>\n",
       "      <th>122393</th>\n",
       "      <td>6.7</td>\n",
       "      <td>1918494</td>\n",
       "      <td>/m/0660qx</td>\n",
       "      <td>State and main</td>\n",
       "      <td>6944471.0</td>\n",
       "      <td>106.0</td>\n",
       "      <td>{\"/m/02bjrlw\": \"Italian Language\", \"/m/02h40lc...</td>\n",
       "      <td>{\"/m/0f8l9c\": \"France\", \"/m/09c7w0\": \"United S...</td>\n",
       "      <td>{\"/m/0gf28\": \"Parody\", \"/m/09n5t_\": \"Americana...</td>\n",
       "    </tr>\n",
       "    <tr>\n",
       "      <th>122394</th>\n",
       "      <td>5.7</td>\n",
       "      <td>664006</td>\n",
       "      <td>/m/030xw6</td>\n",
       "      <td>Guilty as sin</td>\n",
       "      <td>22886222.0</td>\n",
       "      <td>107.0</td>\n",
       "      <td>{}</td>\n",
       "      <td>{\"/m/09c7w0\": \"United States of America\"}</td>\n",
       "      <td>{\"/m/01jfsb\": \"Thriller\", \"/m/0glj9q\": \"Erotic...</td>\n",
       "    </tr>\n",
       "  </tbody>\n",
       "</table>\n",
       "<p>7440 rows × 9 columns</p>\n",
       "</div>"
      ],
      "text/plain": [
       "        averageRating  Wikipedia movie ID Freebase movie ID  \\\n",
       "0                 4.9              975900         /m/03vyhn   \n",
       "9                 6.8            10408933        /m/02qc0j7   \n",
       "17                7.5              171005         /m/016ywb   \n",
       "21                7.8               77856          /m/0kcn7   \n",
       "35                6.5              156558         /m/014k4y   \n",
       "...               ...                 ...               ...   \n",
       "122335            6.9             1191380         /m/04f_y7   \n",
       "122336            7.1               54540          /m/0f7hw   \n",
       "122388            5.3             7761830         /m/0kvgqb   \n",
       "122393            6.7             1918494         /m/0660qx   \n",
       "122394            5.7              664006         /m/030xw6   \n",
       "\n",
       "                      Movie name  Movie box office revenue  Movie runtime  \\\n",
       "0                 Ghosts of mars                14010832.0           98.0   \n",
       "9       Alexander's ragtime band                 3600000.0          106.0   \n",
       "17                       Henry v                10161099.0          137.0   \n",
       "21                  Mary poppins               102272727.0          139.0   \n",
       "35                      Baby boy                29381649.0          123.0   \n",
       "...                          ...                       ...            ...   \n",
       "122335                     Wilde                 2158775.0          118.0   \n",
       "122336         Coming to america               288752301.0          117.0   \n",
       "122388           Spaced invaders                15369573.0          100.0   \n",
       "122393            State and main                 6944471.0          106.0   \n",
       "122394             Guilty as sin                22886222.0          107.0   \n",
       "\n",
       "                                          Movie languages  \\\n",
       "0                      {\"/m/02h40lc\": \"English Language\"}   \n",
       "9                      {\"/m/02h40lc\": \"English Language\"}   \n",
       "17                     {\"/m/02h40lc\": \"English Language\"}   \n",
       "21                     {\"/m/02h40lc\": \"English Language\"}   \n",
       "35                     {\"/m/02h40lc\": \"English Language\"}   \n",
       "...                                                   ...   \n",
       "122335                 {\"/m/02h40lc\": \"English Language\"}   \n",
       "122336                 {\"/m/02h40lc\": \"English Language\"}   \n",
       "122388                 {\"/m/02h40lc\": \"English Language\"}   \n",
       "122393  {\"/m/02bjrlw\": \"Italian Language\", \"/m/02h40lc...   \n",
       "122394                                                 {}   \n",
       "\n",
       "                                          Movie countries  \\\n",
       "0               {\"/m/09c7w0\": \"United States of America\"}   \n",
       "9               {\"/m/09c7w0\": \"United States of America\"}   \n",
       "17                         {\"/m/07ssc\": \"United Kingdom\"}   \n",
       "21              {\"/m/09c7w0\": \"United States of America\"}   \n",
       "35              {\"/m/09c7w0\": \"United States of America\"}   \n",
       "...                                                   ...   \n",
       "122335  {\"/m/014tss\": \"Kingdom of Great Britain\", \"/m/...   \n",
       "122336          {\"/m/09c7w0\": \"United States of America\"}   \n",
       "122388          {\"/m/09c7w0\": \"United States of America\"}   \n",
       "122393  {\"/m/0f8l9c\": \"France\", \"/m/09c7w0\": \"United S...   \n",
       "122394          {\"/m/09c7w0\": \"United States of America\"}   \n",
       "\n",
       "                                             Movie genres  \n",
       "0       {\"/m/01jfsb\": \"Thriller\", \"/m/06n90\": \"Science...  \n",
       "9       {\"/m/04t36\": \"Musical\", \"/m/01z4y\": \"Comedy\", ...  \n",
       "17      {\"/m/04xvh5\": \"Costume drama\", \"/m/082gq\": \"Wa...  \n",
       "21      {\"/m/0hj3myq\": \"Children's/Family\", \"/m/04t36\"...  \n",
       "35      {\"/m/0lsxr\": \"Crime Fiction\", \"/m/07s9rl0\": \"D...  \n",
       "...                                                   ...  \n",
       "122335  {\"/m/0hn10\": \"LGBT\", \"/m/017fp\": \"Biography\", ...  \n",
       "122336  {\"/m/06cvj\": \"Romantic comedy\", \"/m/03p5xs\": \"...  \n",
       "122388  {\"/m/0hj3mt0\": \"Alien Film\", \"/m/06n90\": \"Scie...  \n",
       "122393  {\"/m/0gf28\": \"Parody\", \"/m/09n5t_\": \"Americana...  \n",
       "122394  {\"/m/01jfsb\": \"Thriller\", \"/m/0glj9q\": \"Erotic...  \n",
       "\n",
       "[7440 rows x 9 columns]"
      ]
     },
     "execution_count": 27,
     "metadata": {},
     "output_type": "execute_result"
    }
   ],
   "source": [
    "merged_final2"
   ]
  },
  {
   "cell_type": "code",
   "execution_count": 20,
   "metadata": {},
   "outputs": [
    {
     "data": {
      "text/plain": [
       "7440"
      ]
     },
     "execution_count": 20,
     "metadata": {},
     "output_type": "execute_result"
    }
   ],
   "source": [
    "merged_final2.shape[0]-merged_final2[\"Movie box office revenue\"].isnull().sum()"
   ]
  },
  {
   "cell_type": "code",
   "execution_count": 19,
   "metadata": {},
   "outputs": [
    {
     "data": {
      "text/plain": [
       "8401"
      ]
     },
     "execution_count": 19,
     "metadata": {},
     "output_type": "execute_result"
    }
   ],
   "source": [
    "movie.shape[0]-movie[\"Movie box office revenue\"].isnull().sum()"
   ]
  },
  {
   "cell_type": "code",
   "execution_count": 23,
   "metadata": {},
   "outputs": [],
   "source": [
    "merged_final['startYear'] = pd.to_numeric(merged_final['startYear'], errors='coerce').astype('Int64')"
   ]
  },
  {
   "cell_type": "code",
   "execution_count": 25,
   "metadata": {},
   "outputs": [
    {
     "data": {
      "text/plain": [
       "28863     2024\n",
       "81302     2024\n",
       "60430     2024\n",
       "44753     2024\n",
       "9767      2024\n",
       "          ... \n",
       "122400    <NA>\n",
       "122401    <NA>\n",
       "122409    <NA>\n",
       "122413    <NA>\n",
       "122414    <NA>\n",
       "Name: startYear, Length: 122415, dtype: Int64"
      ]
     },
     "execution_count": 25,
     "metadata": {},
     "output_type": "execute_result"
    }
   ],
   "source": [
    "merged_final['startYear'].sort_values(ascending=False)"
   ]
  },
  {
   "cell_type": "code",
   "execution_count": null,
   "metadata": {},
   "outputs": [],
   "source": []
  }
 ],
 "metadata": {
  "kernelspec": {
   "display_name": "ada_homework_1",
   "language": "python",
   "name": "python3"
  },
  "language_info": {
   "codemirror_mode": {
    "name": "ipython",
    "version": 3
   },
   "file_extension": ".py",
   "mimetype": "text/x-python",
   "name": "python",
   "nbconvert_exporter": "python",
   "pygments_lexer": "ipython3",
   "version": "3.12.7"
  }
 },
 "nbformat": 4,
 "nbformat_minor": 2
}
