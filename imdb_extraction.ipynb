{
 "cells": [
  {
   "cell_type": "markdown",
   "metadata": {},
   "source": [
    "## IMDB data extraction\n",
    "\n",
    "data set:\n",
    "https://datasets.imdbws.com/"
   ]
  },
  {
   "cell_type": "code",
   "execution_count": 13,
   "metadata": {},
   "outputs": [],
   "source": [
    "import pandas as pd"
   ]
  },
  {
   "cell_type": "code",
   "execution_count": 14,
   "metadata": {},
   "outputs": [],
   "source": [
    "movies = pd.read_csv(\"MovieSummaries/movie.metadata.tsv\", delimiter='\\t',header=None)\n",
    "movies.columns = ['Wikipedia movie ID','Freebase movie ID','Movie name','Movie release date','Movie box office revenue','Movie runtime','Movie languages','Movie countries','Movie genres']\n",
    "#Removes all movies that have no box office informations\n",
    "movies = movies.dropna(subset=['Movie box office revenue'])"
   ]
  },
  {
   "cell_type": "code",
   "execution_count": 15,
   "metadata": {},
   "outputs": [],
   "source": [
    "# imdb1 has ratings, imdb identifier and number of votes\n",
    "imdb1 = pd.read_csv('title.ratings.tsv', delimiter='\\t')\n",
    "# imdb2 has genres, title, year, etc\n",
    "imdb2 = pd.read_csv('title.basics.tsv', delimiter='\\t', low_memory=False)\n"
   ]
  },
  {
   "cell_type": "code",
   "execution_count": 16,
   "metadata": {},
   "outputs": [],
   "source": [
    "imdb_df = pd.merge(imdb1, imdb2, on='tconst', how='inner')"
   ]
  },
  {
   "cell_type": "code",
   "execution_count": 17,
   "metadata": {},
   "outputs": [],
   "source": [
    "# in the imdb data set they includes series and a lot of other things.\n",
    "#  This removes a lot of movies that are not in the MCU dataset\n",
    "imdb_df = imdb_df[(imdb_df.titleType == 'movie')|(imdb_df.titleType == 'tvMovie')]\n",
    "# Removing all the movies that have less than 30 votes\n",
    "imdb_df= imdb_df[imdb_df['numVotes'] >= 30]\n",
    "# making the titles of the movies in the same format for both datasets\n",
    "# for example in one data set a movie can be called \"The matrix\" and in the other \"The Matrix\"\n",
    "imdb_df.loc[:, 'primaryTitle'] = imdb_df['primaryTitle'].str.capitalize()\n",
    "movies[\"Movie name\"] = movies[\"Movie name\"].str.capitalize()\n",
    "movies[\"Movie name\"] = movies[\"Movie name\"].str.replace(r'[éè]', 'e', regex=True)"
   ]
  },
  {
   "cell_type": "code",
   "execution_count": 18,
   "metadata": {},
   "outputs": [],
   "source": [
    "# removing all the columns that are not needed\n",
    "imdb_df = imdb_df.drop(columns=['numVotes' ,'titleType', 'isAdult', 'endYear', 'originalTitle', 'genres', 'tconst'])"
   ]
  },
  {
   "cell_type": "code",
   "execution_count": null,
   "metadata": {},
   "outputs": [],
   "source": [
    "# merging the data sets on our movie data set.\n",
    "#  This will create duplicates since multiple movies can have the same name.\n",
    "merged_df = pd.merge(imdb_df, movies, left_on='primaryTitle', right_on='Movie name', how='right')"
   ]
  },
  {
   "cell_type": "code",
   "execution_count": null,
   "metadata": {},
   "outputs": [],
   "source": [
    "# Yreating a column that has the year of the movie release so \n",
    "# that we can remove duplicates which have the same name but different release year\n",
    "merged_df[\"Movie release year\"] = merged_df[\"Movie release date\"].str[:4]"
   ]
  },
  {
   "cell_type": "code",
   "execution_count": 52,
   "metadata": {},
   "outputs": [],
   "source": [
    "# trying to remove duplicates\n",
    "merged_df = merged_df[merged_df['Movie release year']==merged_df['startYear']]\n",
    "merged_df.index = merged_df['Wikipedia movie ID']"
   ]
  },
  {
   "cell_type": "code",
   "execution_count": null,
   "metadata": {},
   "outputs": [],
   "source": [
    "#Removing additional duplicated based on run time differences\n",
    "merged_df[\"runtimeMinutes\"] = pd.to_numeric(merged_df[\"runtimeMinutes\"], errors='coerce', downcast='integer') \n",
    "problem_df1 = merged_df[merged_df[\"Wikipedia movie ID\"].duplicated(keep=False)]\n",
    "problem_df2 = problem_df1[problem_df1[\"Movie name\"].duplicated(keep=False)]\n",
    "problem_df3 = problem_df2[problem_df2[\"Wikipedia movie ID\"].duplicated(keep=False)]\n",
    "problem_df4 = problem_df3[abs(problem_df3[\"runtimeMinutes\"]-problem_df3[\"Movie runtime\"])>20]\n",
    "merged_df[~merged_df.index.isin(problem_df4.index)]\n",
    "\n",
    "# drop colllumn that are not needed\n",
    "merged_df = merged_df.drop(columns=['primaryTitle', 'Movie release year', 'startYear', 'Movie release date', 'runtimeMinutes'])\n"
   ]
  },
  {
   "cell_type": "markdown",
   "metadata": {},
   "source": [
    "# The Cleaned data"
   ]
  },
  {
   "cell_type": "code",
   "execution_count": null,
   "metadata": {},
   "outputs": [],
   "source": [
    "merged_df"
   ]
  }
 ],
 "metadata": {
  "kernelspec": {
   "display_name": "ada_homework_1",
   "language": "python",
   "name": "python3"
  },
  "language_info": {
   "codemirror_mode": {
    "name": "ipython",
    "version": 3
   },
   "file_extension": ".py",
   "mimetype": "text/x-python",
   "name": "python",
   "nbconvert_exporter": "python",
   "pygments_lexer": "ipython3",
   "version": "3.12.7"
  }
 },
 "nbformat": 4,
 "nbformat_minor": 2
}
